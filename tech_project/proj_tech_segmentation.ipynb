{
 "cells": [
  {
   "cell_type": "markdown",
   "metadata": {},
   "source": [
    "# CNN-based Brain Tumour Segmentation Network\n",
    "## Import packages\n",
    "Please make sure you have all the required packages installed. "
   ]
  },
  {
   "cell_type": "code",
   "execution_count": null,
   "metadata": {},
   "outputs": [],
   "source": [
    "import numpy as np\n",
    "import random\n",
    "import matplotlib.pyplot as plt\n",
    "import os"
   ]
  },
  {
   "cell_type": "markdown",
   "metadata": {},
   "source": [
    "## Visualise MRI Volume Slices and Segmentation Maps\n",
    "Each MRI image contains information about a three-dimensional (3D) volume of space. An MRI image is composed of a number of voxels, which is like pixels in 2D images. Here we visualise the transverse plane (usually has a higher resolution) of some of the volumes and the corresponding segmentation maps."
   ]
  },
  {
   "cell_type": "code",
   "execution_count": null,
   "metadata": {},
   "outputs": [],
   "source": [
    "def plot_samples(x,n=10):\n",
    "    i = n\n",
    "    j = 2\n",
    "    plt.figure(figsize=(15,20))\n",
    "    k = 1\n",
    "    idx_nums = np.random.randint(len(x),size=n)\n",
    "    for idx in idx_nums:\n",
    "        plt.subplot(i,j,k)\n",
    "        while k%2 != 0:\n",
    "            plt.imshow(np.load(x[idx])[:,:,0], cmap='gray')\n",
    "            plt.xlabel(\"Input\")\n",
    "            k += 1\n",
    "        plt.subplot(i,j,k)\n",
    "        plt.imshow(np.load(x[idx].split('_')[0]+'_seg.npy')[:,:], cmap='gray')\n",
    "        plt.xlabel(\"Ground Truth\")\n",
    "        k += 1\n",
    "    plt.tight_layout()\n",
    "    plt.show()\n",
    "\n",
    "img_path = 'Dataset/'\n",
    "img_list = []\n",
    "CLASS = 'Yes'\n",
    "all_files = os.listdir(img_path + CLASS)\n",
    "files = [item for item in all_files if \"img\" in item]\n",
    "random.shuffle(files)\n",
    "img_num = len(files)\n",
    "for (n, file_name) in enumerate(files):\n",
    "    img = os.path.join(img_path,CLASS,file_name)\n",
    "    seg = os.path.join(img_path,CLASS,file_name.split('_')[0]+'_seg.npy')\n",
    "    img_list.append(img)\n",
    "plot_samples(img_list, n=5)"
   ]
  },
  {
   "cell_type": "markdown",
   "metadata": {},
   "source": [
    "## Data preprocessing (Optional)\n",
    "\n",
    "Images in the original dataset are usually in different sizes, so sometimes we need to resize and normalise (z-score is commonly used in preprocessing the MRI images) them to fit the CNN model. Depending on the images you choose to use for training your model, some other preprocessing methods. If preprocessing methods like cropping is applied, remember to convert the segmentation result back to its original size. "
   ]
  },
  {
   "cell_type": "code",
   "execution_count": null,
   "metadata": {},
   "outputs": [],
   "source": []
  },
  {
   "cell_type": "markdown",
   "metadata": {},
   "source": [
    "## Train-time data augmentation\n",
    "Generalizability is crucial to a deep learning model and it refers to the performance difference of a model when evaluated on the seen data (training data) versus the unseen data (testing data). Improving the generalizability of these models has always been a difficult challenge. \n",
    "\n",
    "**Data Augmentation** is an effective way of improving the generalizability, because the augmented data will represent a more comprehensive set of possible data samples and minimizing the distance between the training and validation/testing sets.\n",
    "\n",
    "There are many data augmentation methods you can choose in this projects including rotation, shifting, flipping, etc.\n",
    "\n",
    "You are encouraged to try different augmentation method to get the best segmentation result.\n",
    "\n",
    "\n",
    "## Get the data generator ready"
   ]
  },
  {
   "cell_type": "code",
   "execution_count": null,
   "metadata": {},
   "outputs": [],
   "source": []
  },
  {
   "cell_type": "markdown",
   "metadata": {},
   "source": [
    "## Define a metric for the performance of the model\n",
    "Dice score is used here to evaluate the performance of your model.\n",
    "More details about the Dice score and other metrics can be found at \n",
    "https://towardsdatascience.com/metrics-to-evaluate-your-semantic-segmentation-model-6bcb99639aa2. Dice score can be also used as the loss function for training your model."
   ]
  },
  {
   "cell_type": "code",
   "execution_count": null,
   "metadata": {},
   "outputs": [],
   "source": []
  },
  {
   "cell_type": "markdown",
   "metadata": {},
   "source": [
    "## Build your own model here\n",
    "The U-Net (https://link.springer.com/chapter/10.1007/978-3-319-24574-4_28) structure is widely used for the medical image segmentation task. You can build your own model or modify the UNet by changing the hyperparameters for our task. If you choose to use Keras, more information about the Keras layers including Conv2D, MaxPooling and Dropout can be found at https://keras.io/api/layers/."
   ]
  },
  {
   "cell_type": "code",
   "execution_count": null,
   "metadata": {},
   "outputs": [],
   "source": [
    "def build_unet(self, n_filters=16, dropout=0, batchnorm=True, padding='same'):\n",
    "    # 定义一个多次使用的卷积块\n",
    "    def conv2d_block(input_tensor, n_filters=16, kernel_size=3, batchnorm=True, padding='same'):\n",
    "        # the first layer\n",
    "        x = Conv2D(n_filters, kernel_size, padding=padding)(\n",
    "            input_tensor)\n",
    "        if batchnorm:\n",
    "            x = BatchNormalization()(x)\n",
    "        x = Activation('relu')(x)\n",
    "\n",
    "        # the second layer\n",
    "        x = Conv2D(n_filters, kernel_size, padding=padding)(x)\n",
    "        if batchnorm:\n",
    "            x = BatchNormalization()(x)\n",
    "        X = Activation('relu')(x)\n",
    "        return X\n",
    "    # 构建一个输入\n",
    "img = Input(shape=self.shape) # self.shape是图片维度大小\n",
    "\n",
    "# contracting path\n",
    "c1 = conv2d_block(img, n_filters=n_filters * 1, kernel_size=3, batchnorm=batchnorm, padding=padding)\n",
    "p1 = MaxPooling2D((2, 2))(c1)\n",
    "p1 = Dropout(dropout * 0.5)(p1)\n",
    "\n",
    "c2 = conv2d_block(p1, n_filters=n_filters * 2, kernel_size=3, batchnorm=batchnorm, padding=padding)\n",
    "p2 = MaxPooling2D((2, 2))(c2)\n",
    "p2 = Dropout(dropout)(p2)\n",
    "\n",
    "c3 = conv2d_block(p2, n_filters=n_filters * 4, kernel_size=3, batchnorm=batchnorm, padding=padding)\n",
    "p3 = MaxPooling2D((2, 2))(c3)\n",
    "p3 = Dropout(dropout)(p3)\n",
    "\n",
    "c4 = conv2d_block(p3, n_filters=n_filters * 8, kernel_size=3, batchnorm=batchnorm, padding=padding)\n",
    "p4 = MaxPooling2D((2, 2))(c4)\n",
    "p4 = Dropout(dropout)(p4)\n",
    "\n",
    "c5 = conv2d_block(p4, n_filters=n_filters * 16, kernel_size=3, batchnorm=batchnorm, padding=padding)\n",
    "# extending path\n",
    "u6 = Conv2DTranspose(n_filters * 8, (3, 3), strides=(2, 2), padding='same')(c5)\n",
    "u6 = concatenate([u6, c4])\n",
    "u6 = Dropout(dropout)(u6)\n",
    "c6 = conv2d_block(u6, n_filters=n_filters * 8, kernel_size=3, batchnorm=batchnorm, padding=padding)\n",
    "\n",
    "u7 = Conv2DTranspose(n_filters * 4, (3, 3), strides=(2, 2), padding='same')(c6)\n",
    "u7 = concatenate([u7, c3])\n",
    "u7 = Dropout(dropout)(u7)\n",
    "c7 = conv2d_block(u7, n_filters=n_filters * 4, kernel_size=3, batchnorm=batchnorm, padding=padding)\n",
    "\n",
    "u8 = Conv2DTranspose(n_filters * 2, (3, 3), strides=(2, 2), padding='same')(c7)\n",
    "u8 = concatenate([u8, c2])\n",
    "u8 = Dropout(dropout)(u8)\n",
    "c8 = conv2d_block(u8, n_filters=n_filters * 2, kernel_size=3, batchnorm=batchnorm, padding=padding)\n",
    "\n",
    "u9 = Conv2DTranspose(n_filters * 1, (3, 3), strides=(2, 2), padding='same')(c8)\n",
    "u9 = concatenate([u9, c1])\n",
    "u9 = Dropout(dropout)(u9)\n",
    "c9 = conv2d_block(u9, n_filters=n_filters * 1, kernel_size=3, batchnorm=batchnorm, padding=padding)\n",
    "\n",
    "output = Conv2D(1, (1, 1), activation='sigmoid')(c9)\n",
    "\n",
    "return Model(img, output)\n",
    "self.unet = self.build_unet() # 创建网络变量\n",
    "self.unet.summary()\n",
    "\n"
   ]
  },
  {
   "cell_type": "markdown",
   "metadata": {},
   "source": [
    "## Train your model here\n",
    "Once you defined the model and data generator, you can start training your model."
   ]
  },
  {
   "cell_type": "code",
   "execution_count": null,
   "metadata": {},
   "outputs": [],
   "source": []
  },
  {
   "cell_type": "markdown",
   "metadata": {},
   "source": [
    "## Save the model\n",
    "Once your model is trained, remember to save it for testing."
   ]
  },
  {
   "cell_type": "code",
   "execution_count": null,
   "metadata": {},
   "outputs": [],
   "source": []
  },
  {
   "cell_type": "markdown",
   "metadata": {},
   "source": [
    "## Run the model on the test set\n",
    "After your last Q&A session, you will be given the test set. Run your model on the test set to get the segmentation results and submit your results in a .zip file. If the MRI image is named '100_img.npy', save your segmentation result as '100_seg.npy'. "
   ]
  },
  {
   "cell_type": "code",
   "execution_count": null,
   "metadata": {},
   "outputs": [],
   "source": []
  }
 ],
 "metadata": {
  "kernelspec": {
   "display_name": "pytorch",
   "language": "python",
   "name": "python3"
  },
  "language_info": {
   "codemirror_mode": {
    "name": "ipython",
    "version": 3
   },
   "file_extension": ".py",
   "mimetype": "text/x-python",
   "name": "python",
   "nbconvert_exporter": "python",
   "pygments_lexer": "ipython3",
   "version": "3.9.13 (main, Oct 13 2022, 21:23:06) [MSC v.1916 64 bit (AMD64)]"
  },
  "vscode": {
   "interpreter": {
    "hash": "bf9c1e0b43be616ca505b4ddd666cb83a07f07d2fdd69f2293ef56e5b2ee18e2"
   }
  }
 },
 "nbformat": 4,
 "nbformat_minor": 2
}
